{
 "cells": [
  {
   "cell_type": "code",
   "execution_count": 1,
   "metadata": {},
   "outputs": [],
   "source": [
    "import numpy as np\n",
    "import seaborn as sns\n",
    "from CifarDataset import CifarDataset\n",
    "from IntelDataset import IntelDataset\n",
    "from TrainModel import TrainModel\n",
    "import torch"
   ]
  },
  {
   "cell_type": "code",
   "execution_count": 2,
   "metadata": {},
   "outputs": [],
   "source": [
    "torch.cuda.empty_cache()"
   ]
  },
  {
   "cell_type": "code",
   "execution_count": null,
   "metadata": {},
   "outputs": [],
   "source": [
    "# input image size in px (square image)\n",
    "input_size = 32\n",
    "dataset_name = \"cifar\"\n",
    "epoch = 6\n",
    "0\n",
    "\n",
    "# methods = [\"xavier_uniform\",'xavier_uniform_M_10', 'xavier_uniform_M_2', 'xavier_uniform_M_1', 'xavier_uniform_M_14', 'xavier_uniform_M_20']\n",
    "methods = ['xavier_uniform_M_14', 'xavier_uniform_M_20']\n",
    "for method in methods:\n",
    "    for apt in range(3):\n",
    "        model = TrainModel(dataset=CifarDataset(), method=method, input_size=input_size,\n",
    "                                c_kernels=[5, 5, 5, 5, 5, 5, 5, 5, 5], in_channels=[3, 16, 32, 64, 86, 128, 128, 128], out_channels=[16, 32, 64, 86, 128, 128, 128, 128], apt=apt, dataset_name=dataset_name, epoch=epoch)\n",
    "        sse, sse_t, acc, e = model.training()\n",
    "        np.savetxt(\"./output_data/data_plots/\" + dataset_name + method + \"_\" + str(apt) + \".csv\", sse, delimiter=\";\")\n",
    "        np.savetxt(\"./output_data/data_plots/\" + dataset_name + method + \"_\" + str(apt) + \"_t.csv\", sse_t, delimiter=\";\")\n",
    "        with open('./output_data/acc/' + dataset_name + method + \"_\" + str(apt) + '.txt', 'w') as f:\n",
    "            f.write('pk: ' + str(acc) + '\\n')\n",
    "        torch.save(model.cnn_model, \"./output_data/models/\" + dataset_name + method + \"_\" + str(apt))\n"
   ]
  },
  {
   "cell_type": "code",
   "execution_count": 3,
   "metadata": {},
   "outputs": [
    {
     "name": "stdout",
     "output_type": "stream",
     "text": [
      "['buildings', 'forest', 'glacier', 'mountain', 'sea', 'street']\n",
      "class num: 6\n",
      "ilość klas: 6\n",
      "wielkość po warstawach conv: 6\n",
      "-------------------------------------------------------------------------\n",
      "      Layer (type)          Output Shape         Param #     Tr. Param #\n",
      "=========================================================================\n",
      "          Conv2d-1     [1, 16, 150, 150]           2,368           2,368\n",
      "          Conv2d-2     [1, 32, 150, 150]          25,120          25,120\n",
      "          Conv2d-3     [1, 64, 150, 150]         100,416         100,416\n",
      "       MaxPool2d-4       [1, 64, 76, 76]               0               0\n",
      "          Conv2d-5       [1, 86, 76, 76]         269,782         269,782\n",
      "          Conv2d-6      [1, 128, 76, 76]         275,328         275,328\n",
      "       MaxPool2d-7      [1, 128, 39, 39]               0               0\n",
      "          Conv2d-8      [1, 128, 39, 39]         409,728         409,728\n",
      "          Conv2d-9      [1, 128, 39, 39]         409,728         409,728\n",
      "      MaxPool2d-10      [1, 128, 20, 20]               0               0\n",
      "         Conv2d-11      [1, 128, 20, 20]         409,728         409,728\n",
      "         Conv2d-12      [1, 128, 20, 20]         409,728         409,728\n",
      "      MaxPool2d-13      [1, 128, 11, 11]               0               0\n",
      "         Conv2d-14      [1, 128, 11, 11]         409,728         409,728\n",
      "         Conv2d-15      [1, 128, 11, 11]         409,728         409,728\n",
      "      MaxPool2d-16        [1, 128, 6, 6]               0               0\n",
      "         Conv2d-17        [1, 128, 6, 6]         409,728         409,728\n",
      "         Linear-18              [1, 128]         589,952         589,952\n",
      "         Linear-19               [1, 64]           8,256           8,256\n",
      "         Linear-20               [1, 16]           1,040           1,040\n",
      "         Linear-21                [1, 6]             102             102\n",
      "=========================================================================\n",
      "Total params: 4,140,460\n",
      "Trainable params: 4,140,460\n",
      "Non-trainable params: 0\n",
      "-------------------------------------------------------------------------\n",
      "GPU is available\n",
      "pk: 15.80 %\n",
      "Learning rate: 0.0010000000\n",
      "Epoch: 0............. Loss: 1.7938\n",
      "pk: 17.50 %\n",
      "Learning rate: 0.0010400000\n",
      "Epoch: 1............. Loss: 1.7937\n",
      "pk: 17.50 %\n",
      "Learning rate: 0.0010816000\n",
      "Epoch: 2............. Loss: 1.7918\n",
      "pk: 17.50 %\n",
      "Learning rate: 0.0011248640\n",
      "Epoch: 3............. Loss: 1.7883\n",
      "pk: 17.50 %\n",
      "Learning rate: 0.0011698586\n",
      "Epoch: 4............. Loss: 1.7962\n"
     ]
    }
   ],
   "source": [
    "input_size = 150\n",
    "epoch = 50\n",
    "dataset_name = \"intel\"\n",
    "methods = ['xavier_uniform_M_2', 'xavier_uniform_M_1',]\n",
    "\n",
    "for method in methods:\n",
    "    for apt in range(3, 6):\n",
    "        model = TrainModel(dataset=IntelDataset(), method=method, input_size=input_size,\n",
    "                            c_kernels=[7, 7, 7, 7, 5, 5, 5, 5, 5, 5, 5, 5, 5], in_channels=[3, 16, 32, 64, 86, 128, 128, 128, 128, 128, 128, 128], out_channels=[16, 32, 64, 86, 128, 128, 128, 128, 128, 128, 128, 128], apt=apt, dataset_name=dataset_name, epoch=epoch)\n",
    "        sse, sse_t, acc, e = model.training()\n",
    "        np.savetxt(\"./output_data/data_plots/\" + method + \"_\" + str(apt) + \".csv\", sse, delimiter=\";\")\n",
    "        np.savetxt(\"./output_data/data_plots/\" + method + \"_\" + str(apt) + \"_t.csv\", sse_t, delimiter=\";\")\n",
    "        with open('./output_data/acc/' + method + \"_\" + str(apt) + '.txt', 'w') as f:\n",
    "            f.write('pk: ' + str(acc) + '\\n')\n",
    "        torch.save(model.cnn_model, \"./output_data/models/\" + method + \"_\" + str(apt))\n"
   ]
  }
 ],
 "metadata": {
  "interpreter": {
   "hash": "483af022b5ec7d24700bcdf0e25d1e2b25f3a954a5b2083e220785423700196e"
  },
  "kernelspec": {
   "display_name": "Python 3.8.12 ('base')",
   "language": "python",
   "name": "python3"
  },
  "language_info": {
   "codemirror_mode": {
    "name": "ipython",
    "version": 3
   },
   "file_extension": ".py",
   "mimetype": "text/x-python",
   "name": "python",
   "nbconvert_exporter": "python",
   "pygments_lexer": "ipython3",
   "version": "3.8.12"
  },
  "orig_nbformat": 4
 },
 "nbformat": 4,
 "nbformat_minor": 2
}
