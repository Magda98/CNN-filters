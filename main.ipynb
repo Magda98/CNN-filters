{
 "cells": [
  {
   "cell_type": "code",
   "execution_count": 1,
   "metadata": {},
   "outputs": [],
   "source": [
    "import numpy as np\n",
    "import seaborn as sns\n",
    "from CifarDataset import CifarDataset\n",
    "from IntelDataset import IntelDataset\n",
    "from TrainModel import TrainModel\n",
    "import torch\n"
   ]
  },
  {
   "cell_type": "code",
   "execution_count": 2,
   "metadata": {},
   "outputs": [],
   "source": [
    "torch.cuda.empty_cache()"
   ]
  },
  {
   "cell_type": "code",
   "execution_count": null,
   "metadata": {},
   "outputs": [],
   "source": [
    "# input image size in px (square image)\n",
    "input_size = 32\n",
    "dataset_name = \"cifar\"\n",
    "epoch = 6\n",
    "0\n",
    "\n",
    "# methods = [\"xavier_uniform\",'xavier_uniform_M_10', 'xavier_uniform_M_2', 'xavier_uniform_M_1', 'xavier_uniform_M_14', 'xavier_uniform_M_20']\n",
    "methods = ['xavier_uniform_M_14', 'xavier_uniform_M_20']\n",
    "for method in methods:\n",
    "    for apt in range(3):\n",
    "        model = TrainModel(dataset=CifarDataset(), method=method, input_size=input_size,\n",
    "                                c_kernels=[5, 5, 5, 5, 5, 5, 5, 5, 5], in_channels=[3, 16, 32, 64, 86, 128, 128, 128], out_channels=[16, 32, 64, 86, 128, 128, 128, 128], apt=apt, dataset_name=dataset_name, epoch=epoch)\n",
    "        sse, sse_t, acc, e = model.training()\n",
    "        np.savetxt(\"./output_data/data_plots/\" + dataset_name + method + \"_\" + str(apt) + \".csv\", sse, delimiter=\";\")\n",
    "        np.savetxt(\"./output_data/data_plots/\" + dataset_name + method + \"_\" + str(apt) + \"_t.csv\", sse_t, delimiter=\";\")\n",
    "        with open('./output_data/acc/' + dataset_name + method + \"_\" + str(apt) + '.txt', 'w') as f:\n",
    "            f.write('pk: ' + str(acc) + '\\n')\n",
    "        torch.save(model.cnn_model, \"./output_data/models/\" + dataset_name + method + \"_\" + str(apt))\n"
   ]
  },
  {
   "cell_type": "code",
   "execution_count": 3,
   "metadata": {},
   "outputs": [
    {
     "name": "stdout",
     "output_type": "stream",
     "text": [
      "['buildings', 'forest', 'glacier', 'mountain', 'sea', 'street']\n",
      "class num: 6\n",
      "ilość klas: 6\n",
      "wielkość po warstawach conv: 4\n",
      "-------------------------------------------------------------------------\n",
      "      Layer (type)          Output Shape         Param #     Tr. Param #\n",
      "=========================================================================\n",
      "          Conv2d-1     [1, 16, 150, 150]           2,368           2,368\n",
      "            Tanh-2     [1, 16, 150, 150]               0               0\n",
      "          Conv2d-3     [1, 32, 150, 150]          25,120          25,120\n",
      "            Tanh-4     [1, 32, 150, 150]               0               0\n",
      "          Conv2d-5     [1, 64, 150, 150]         100,416         100,416\n",
      "            Tanh-6     [1, 64, 150, 150]               0               0\n",
      "       MaxPool2d-7       [1, 64, 75, 75]               0               0\n",
      "          Conv2d-8       [1, 86, 75, 75]         269,782         269,782\n",
      "            Tanh-9       [1, 86, 75, 75]               0               0\n",
      "         Conv2d-10      [1, 128, 75, 75]         275,328         275,328\n",
      "           Tanh-11      [1, 128, 75, 75]               0               0\n",
      "      MaxPool2d-12      [1, 128, 37, 37]               0               0\n",
      "         Conv2d-13      [1, 128, 37, 37]         409,728         409,728\n",
      "           Tanh-14      [1, 128, 37, 37]               0               0\n",
      "         Conv2d-15      [1, 128, 37, 37]         409,728         409,728\n",
      "           Tanh-16      [1, 128, 37, 37]               0               0\n",
      "      MaxPool2d-17      [1, 128, 18, 18]               0               0\n",
      "         Conv2d-18      [1, 128, 18, 18]         409,728         409,728\n",
      "           Tanh-19      [1, 128, 18, 18]               0               0\n",
      "         Conv2d-20      [1, 128, 18, 18]         409,728         409,728\n",
      "           Tanh-21      [1, 128, 18, 18]               0               0\n",
      "      MaxPool2d-22        [1, 128, 9, 9]               0               0\n",
      "         Conv2d-23        [1, 128, 9, 9]         409,728         409,728\n",
      "           Tanh-24        [1, 128, 9, 9]               0               0\n",
      "         Conv2d-25        [1, 128, 9, 9]         409,728         409,728\n",
      "           Tanh-26        [1, 128, 9, 9]               0               0\n",
      "      MaxPool2d-27        [1, 128, 4, 4]               0               0\n",
      "         Conv2d-28        [1, 128, 4, 4]         409,728         409,728\n",
      "           Tanh-29        [1, 128, 4, 4]               0               0\n",
      "         Linear-30              [1, 128]         262,272         262,272\n",
      "           Tanh-31              [1, 128]               0               0\n",
      "         Linear-32               [1, 64]           8,256           8,256\n",
      "           Tanh-33               [1, 64]               0               0\n",
      "         Linear-34               [1, 16]           1,040           1,040\n",
      "           Tanh-35               [1, 16]               0               0\n",
      "         Linear-36                [1, 6]             102             102\n",
      "=========================================================================\n",
      "Total params: 3,812,780\n",
      "Trainable params: 3,812,780\n",
      "Non-trainable params: 0\n",
      "-------------------------------------------------------------------------\n",
      "GPU is available\n",
      "pk: 48.37 %\n",
      "Learning rate: 0.0010000000\n",
      "Epoch: 0............. Loss: 1.3368\n"
     ]
    }
   ],
   "source": [
    "input_size = 150\n",
    "epoch = 50\n",
    "dataset_name = \"intel\"\n",
    "methods = ['xavier_uniform']\n",
    "\n",
    "for method in methods:\n",
    "    for apt in range(3, 6):\n",
    "        model = TrainModel(dataset=IntelDataset(), method=method, input_size=input_size,\n",
    "                            c_kernels=[7, 7, 7, 7, 5, 5, 5, 5, 5, 5, 5, 5, 5], in_channels=[3, 16, 32, 64, 86, 128, 128, 128, 128, 128, 128, 128], out_channels=[16, 32, 64, 86, 128, 128, 128, 128, 128, 128, 128, 128], apt=apt, dataset_name=dataset_name, epoch=epoch, padding_flag=True, maxpool_freq=2, activation_relu=False, fc_size=4)\n",
    "        sse, sse_t, acc, e = model.training()\n",
    "        np.savetxt(\"./output_data/data_plots/\" + method + \"_\" + str(apt) + \".csv\", sse, delimiter=\";\")\n",
    "        np.savetxt(\"./output_data/data_plots/\" + method + \"_\" + str(apt) + \"_t.csv\", sse_t, delimiter=\";\")\n",
    "        with open('./output_data/acc/' + method + \"_\" + str(apt) + '.txt', 'w') as f:\n",
    "            f.write('pk: ' + str(acc) + '\\n')\n",
    "        torch.save(model.cnn_model, \"./output_data/models/\" + method + \"_\" + str(apt))\n"
   ]
  }
 ],
 "metadata": {
  "interpreter": {
   "hash": "483af022b5ec7d24700bcdf0e25d1e2b25f3a954a5b2083e220785423700196e"
  },
  "kernelspec": {
   "display_name": "Python 3.8.12 ('base')",
   "language": "python",
   "name": "python3"
  },
  "language_info": {
   "codemirror_mode": {
    "name": "ipython",
    "version": 3
   },
   "file_extension": ".py",
   "mimetype": "text/x-python",
   "name": "python",
   "nbconvert_exporter": "python",
   "pygments_lexer": "ipython3",
   "version": "3.8.12"
  },
  "orig_nbformat": 4
 },
 "nbformat": 4,
 "nbformat_minor": 2
}
